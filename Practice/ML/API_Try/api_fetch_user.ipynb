{
 "cells": [
  {
   "cell_type": "code",
   "execution_count": 73,
   "id": "a13d07aa",
   "metadata": {},
   "outputs": [],
   "source": [
    "import requests"
   ]
  },
  {
   "cell_type": "code",
   "execution_count": null,
   "id": "9bb1946a",
   "metadata": {},
   "outputs": [],
   "source": [
    "def fetch_data():\n",
    "    url=\"https://api.freeapi.app/api/v1/public/randomusers/user/random\"\n",
    "    response = requests.get(url)\n",
    "    data=response.json()\n",
    "\n",
    "    if data[\"success\"] and \"data\" in data:\n",
    "        user_data = data[\"data\"]\n",
    "        title = user_data[\"name\"][\"title\"]\n",
    "        first = user_data[\"name\"][\"first\"]\n",
    "        last = user_data[\"name\"][\"last\"]\n",
    "        name= f\"{title} {first} {last}\"\n",
    "        username = user_data[\"login\"][\"username\"]\n",
    "        password = user_data[\"login\"][\"password\"]\n",
    "    else:\n",
    "        raise Exception(\"Failed to fetch data from API\")\n",
    "    #return data\n",
    "    return name, username, password"
   ]
  },
  {
   "cell_type": "code",
   "execution_count": 75,
   "id": "8c16caca",
   "metadata": {},
   "outputs": [
    {
     "name": "stdout",
     "output_type": "stream",
     "text": [
      "Name: Ms Iiris Juntunen\n",
      "Username: redbutterfly957\n",
      "Password: 222333\n"
     ]
    }
   ],
   "source": [
    "def main():\n",
    "    try:\n",
    "        name, username, password = fetch_data()\n",
    "        print(f\"Name: {name}\")\n",
    "        print(f\"Username: {username}\")\n",
    "        print(f\"Password: {password}\")\n",
    "    except Exception as e:\n",
    "        print(f\"Error: {e}\")\n",
    "if __name__ == \"__main__\":\n",
    "    main()"
   ]
  },
  {
   "cell_type": "code",
   "execution_count": 76,
   "id": "4aec9772",
   "metadata": {},
   "outputs": [],
   "source": [
    "# This script fetches random user data from the FreeAPI and prints the name, username, and password.\n",
    "# It uses the requests library to make an HTTP GET request to the API endpoint.   "
   ]
  }
 ],
 "metadata": {
  "kernelspec": {
   "display_name": "ML",
   "language": "python",
   "name": "python3"
  },
  "language_info": {
   "codemirror_mode": {
    "name": "ipython",
    "version": 3
   },
   "file_extension": ".py",
   "mimetype": "text/x-python",
   "name": "python",
   "nbconvert_exporter": "python",
   "pygments_lexer": "ipython3",
   "version": "3.10.13"
  }
 },
 "nbformat": 4,
 "nbformat_minor": 5
}
