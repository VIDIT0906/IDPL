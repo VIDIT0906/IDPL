{
 "cells": [
  {
   "cell_type": "code",
   "execution_count": 4,
   "id": "ba000cc4",
   "metadata": {},
   "outputs": [],
   "source": [
    "import requests\n",
    "\n",
    "def fetch_data():\n",
    "    url = \"https://api.freeapi.app/api/v1/public/randomproducts/product/random\"\n",
    "\n",
    "    headers = {\"accept\": \"application/json\"}\n",
    "\n",
    "    response = requests.get(url, headers=headers)\n",
    "\n",
    "    data = response.json()\n",
    "\n",
    "    if data[\"success\"] and \"data\" in data:\n",
    "        product = data[\"data\"]\n",
    "        name = product['title']\n",
    "        price = product['price']\n",
    "        rating = product['rating']\n",
    "    else:\n",
    "        raise Exception(\"Failed to fetch data from API\")\n",
    "    #return data\n",
    "    return name, price, rating\n"
   ]
  },
  {
   "cell_type": "code",
   "execution_count": 5,
   "id": "04922008",
   "metadata": {},
   "outputs": [
    {
     "name": "stdout",
     "output_type": "stream",
     "text": [
      "Name: Handbag For Girls\n",
      "Username: 23\n",
      "Password: 4.91\n"
     ]
    }
   ],
   "source": [
    "def main():\n",
    "    try:\n",
    "        name, price, rating = fetch_data()\n",
    "        print(f\"Name: {name}\")\n",
    "        print(f\"Username: {price}\")\n",
    "        print(f\"Password: {rating}\")\n",
    "    except Exception as e:\n",
    "        print(f\"Error: {e}\")\n",
    "if __name__ == \"__main__\":\n",
    "    main()"
   ]
  }
 ],
 "metadata": {
  "kernelspec": {
   "display_name": "ML",
   "language": "python",
   "name": "python3"
  },
  "language_info": {
   "codemirror_mode": {
    "name": "ipython",
    "version": 3
   },
   "file_extension": ".py",
   "mimetype": "text/x-python",
   "name": "python",
   "nbconvert_exporter": "python",
   "pygments_lexer": "ipython3",
   "version": "3.10.13"
  }
 },
 "nbformat": 4,
 "nbformat_minor": 5
}
